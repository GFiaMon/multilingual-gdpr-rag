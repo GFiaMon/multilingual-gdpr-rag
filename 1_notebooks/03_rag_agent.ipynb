{
 "cells": [
  {
   "cell_type": "markdown",
   "id": "a5e2a076",
   "metadata": {},
   "source": [
    "# GDPR Compliance Assistant - RAG Agent Implementation\n",
    "\n",
    "This notebook implements the QA agent for the GDPR Compliance Assistant using your existing Pinecone vector database.\n"
   ]
  },
  {
   "cell_type": "markdown",
   "id": "3624fb25",
   "metadata": {},
   "source": [
    "\n",
    "## Setup and Imports\n",
    "\n",
    "First, let's install required packages and import dependencies."
   ]
  },
  {
   "cell_type": "code",
   "execution_count": null,
   "id": "063b3123",
   "metadata": {},
   "outputs": [
    {
     "name": "stdout",
     "output_type": "stream",
     "text": [
      "✅ All packages imported successfully!\n"
     ]
    },
    {
     "name": "stderr",
     "output_type": "stream",
     "text": [
      "/Users/guillermo/venvs/langchain_venv/lib/python3.11/site-packages/langchain_pinecone/__init__.py:3: LangChainDeprecationWarning: As of langchain-core 0.3.0, LangChain uses pydantic v2 internally. The langchain_core.pydantic_v1 module was a compatibility shim for pydantic v1, and should no longer be used. Please update the code to import from Pydantic directly.\n",
      "\n",
      "For example, replace imports like: `from langchain_core.pydantic_v1 import BaseModel`\n",
      "with: `from pydantic import BaseModel`\n",
      "or the v1 compatibility namespace if you are working in a code base that has not been fully upgraded to pydantic 2 yet. \tfrom pydantic.v1 import BaseModel\n",
      "\n",
      "  from langchain_pinecone.vectorstores import Pinecone, PineconeVectorStore\n"
     ]
    }
   ],
   "source": [
    "# First, make sure you have the latest LangChain\n",
    "# pip install langchain-core langchain-openai\n",
    "\n",
    "# Cell 1: Setup and Imports\n",
    "import os\n",
    "import sys\n",
    "from dotenv import load_dotenv\n",
    "\n",
    "# Add project root to Python path\n",
    "sys.path.append(os.path.abspath('..'))\n",
    "\n",
    "# LangChain components\n",
    "from langchain_openai import OpenAIEmbeddings, ChatOpenAI  # ✅ Correct imports\n",
    "from langchain_pinecone import PineconeVectorStore  # ✅ Pinecone integration\n",
    "from langchain.chains import RetrievalQA\n",
    "from langchain.prompts import PromptTemplate\n",
    "\n",
    "from pinecone import Pinecone, ServerlessSpec\n",
    "\n",
    "import time\n",
    "\n",
    "\n",
    "# from langchain.chains import RetrievalQA\n",
    "# from langchain.vectorstores import Pinecone\n",
    "# from langchain.embeddings import OpenAIEmbeddings\n",
    "# from langchain_openai import ChatOpenAI\n",
    "# from langchain.prompts import PromptTemplate\n",
    "# from langchain_pinecone import PineconeVectorStore\n",
    "\n",
    "# Load environment variables\n",
    "load_dotenv()\n",
    "\n",
    "print(\"✅ All packages imported successfully!\")"
   ]
  },
  {
   "cell_type": "markdown",
   "id": "8e633dbb",
   "metadata": {},
   "source": [
    "\n",
    "## Configuration / Environment Setup\n",
    "\n",
    "Set up your API keys and configuration. Replace with your actual values."
   ]
  },
  {
   "cell_type": "code",
   "execution_count": 2,
   "id": "e3f43176",
   "metadata": {},
   "outputs": [
    {
     "name": "stdout",
     "output_type": "stream",
     "text": [
      "🔑 API keys configured\n",
      "📁 Using Pinecone index: gdpr-compliance-openai\n"
     ]
    }
   ],
   "source": [
    "# Configure your API keys\n",
    "def setup_environment():\n",
    "    # Check if API keys are already in environment\n",
    "    OPENAI_API_KEY = os.getenv(\"OPENAI_API_KEY\")\n",
    "    PINECONE_API_KEY = os.getenv(\"PINECONE_API_KEY\")\n",
    "    \n",
    "    # If not set, prompt user\n",
    "    if not OPENAI_API_KEY:\n",
    "        OPENAI_API_KEY = getpass.getpass(\"Enter your OpenAI API key: \")\n",
    "        os.environ[\"OPENAI_API_KEY\"] = OPENAI_API_KEY\n",
    "    \n",
    "    if not PINECONE_API_KEY:\n",
    "        PINECONE_API_KEY = getpass.getpass(\"Enter your Pinecone API key: \")\n",
    "        os.environ[\"PINECONE_API_KEY\"] = PINECONE_API_KEY\n",
    "    \n",
    "    # Your Pinecone index name (replace with your actual index name)\n",
    "    index_name = \"gdpr-compliance-openai\"  # Change this to your index name\n",
    "    \n",
    "    return index_name, OPENAI_API_KEY, PINECONE_API_KEY\n",
    "\n",
    "index_name, OPENAI_API_KEY, PINECONE_API_KEY = setup_environment()\n",
    "print(f\"🔑 API keys configured\")\n",
    "print(f\"📁 Using Pinecone index: {index_name}\")"
   ]
  },
  {
   "cell_type": "code",
   "execution_count": null,
   "id": "b052bb32",
   "metadata": {},
   "outputs": [],
   "source": [
    "# ---------------------------\n",
    "# Pinecone Initialization (Current 2025 syntax)\n",
    "# ---------------------------\n",
    "def init_pinecone(api_key: str, index_name: str = \"gdpr-compliance-openai\", environment: str = \"us-east-1\"):\n",
    "    \"\"\"\n",
    "    Initialize Pinecone connection using current Pinecone\n",
    "    \"\"\"\n",
    "    if not api_key:\n",
    "        raise ValueError(\"PINECONE_API_KEY is missing!\")\n",
    "    \n",
    "    # Initialize Pinecone (Current API)\n",
    "    print(\"🔌 Initializing Pinecone...\")\n",
    "    # from pinecone import Pinecone, ServerlessSpec\n",
    "    pc = Pinecone(api_key=api_key)\n",
    "    print(\"✅ Pinecone initialized successfully\")\n",
    "    \n",
    "    # Check if index exists\n",
    "    if index_name in pc.list_indexes().names():\n",
    "        print(f\"✅ Index '{index_name}' exists\")\n",
    "        # Wait for index to be ready\n",
    "        while not pc.describe_index(index_name).status.ready:\n",
    "            print(\"⏳ Waiting for index to be ready...\")\n",
    "            # import time\n",
    "            time.sleep(1)\n",
    "    else:\n",
    "        print(f\"⚠️  Index '{index_name}' not found.\")\n",
    "        # print(f\"⚠️  Index '{index_name}' not found. Creating it...\")\n",
    "        # pc.create_index(\n",
    "        #     name=index_name,\n",
    "        #     dimension=1536,  # OpenAI text-embedding-3-small dimension\n",
    "        #     metric=\"cosine\",\n",
    "        #     spec=ServerlessSpec(cloud=\"aws\", region=environment)\n",
    "        # )\n",
    "        # print(f\"✅ Index '{index_name}' created\")\n",
    "    \n",
    "    # Get the index object\n",
    "    index = pc.Index(index_name)\n",
    "    return pc, index"
   ]
  },
  {
   "cell_type": "code",
   "execution_count": 5,
   "id": "075e55bc",
   "metadata": {},
   "outputs": [
    {
     "name": "stdout",
     "output_type": "stream",
     "text": [
      "🔌 Initializing Pinecone...\n",
      "✅ Pinecone initialized successfully\n",
      "✅ Index 'gdpr-compliance-openai' exists\n",
      "✅ Pinecone setup completed!\n"
     ]
    }
   ],
   "source": [
    "pc, index = init_pinecone(\n",
    "        api_key=PINECONE_API_KEY,\n",
    "        index_name=index_name)\n",
    "print(\"✅ Pinecone setup completed!\")\n"
   ]
  },
  {
   "cell_type": "markdown",
   "id": "fa568443",
   "metadata": {},
   "source": [
    "## Initialize embeddings"
   ]
  },
  {
   "cell_type": "code",
   "execution_count": null,
   "id": "9fbff3dd",
   "metadata": {},
   "outputs": [
    {
     "name": "stdout",
     "output_type": "stream",
     "text": [
      "✅ Embeddings initialized successfully\n"
     ]
    }
   ],
   "source": [
    "# Initialize embeddings with CURRENT syntax - NO DEPRECATION WARNING\n",
    "embeddings = OpenAIEmbeddings(\n",
    "    model=\"text-embedding-3-small\",\n",
    "    openai_api_key=OPENAI_API_KEY\n",
    ")\n",
    "print(\"✅ Embeddings initialized successfully\")"
   ]
  },
  {
   "cell_type": "markdown",
   "id": "26256a4e",
   "metadata": {},
   "source": [
    "## Initialize Vector Store Connection"
   ]
  },
  {
   "cell_type": "code",
   "execution_count": 9,
   "id": "2c077e1c",
   "metadata": {},
   "outputs": [
    {
     "data": {
      "text/plain": [
       "'gdpr-compliance-openai'"
      ]
     },
     "execution_count": 9,
     "metadata": {},
     "output_type": "execute_result"
    }
   ],
   "source": [
    "index_name"
   ]
  },
  {
   "cell_type": "code",
   "execution_count": 10,
   "id": "b5dc5a73",
   "metadata": {},
   "outputs": [
    {
     "name": "stdout",
     "output_type": "stream",
     "text": [
      "✅ LangChain successfully connected to Pinecone index!\n"
     ]
    }
   ],
   "source": [
    "vector_store = PineconeVectorStore(\n",
    "        index=index,  # Use the index object from our initialization\n",
    "        embedding=embeddings,\n",
    "        text_key=\"text\"  # This should match your upload metadata field name\n",
    "    )\n",
    "    \n",
    "print(\"✅ LangChain successfully connected to Pinecone index!\")"
   ]
  },
  {
   "cell_type": "markdown",
   "id": "01ebddf7",
   "metadata": {},
   "source": [
    "## Test the connection with current syntax\n"
   ]
  },
  {
   "cell_type": "code",
   "execution_count": null,
   "id": "905c4549",
   "metadata": {},
   "outputs": [],
   "source": [
    "# # Test the connection with current syntax\n",
    "# test_query = \"Telephone number from a client\"\n",
    "# test_results = vector_store.similarity_search(\"test_query\", k=2)\n",
    "# print(f\"📚 Test retrieval found {len(test_results)} documents\")\n",
    "\n",
    "# # Show metadata structure (useful for debugging)\n",
    "# if test_results:\n",
    "#     print(f\"📋 Available metadata fields: {list(test_results[0].metadata.keys())}\")\n",
    "#     print(f\"📄 Sample content: {test_results[0].page_content[:150]}...\")\n",
    "    \n",
    "# # Alternative: Check what's in the vector store\n",
    "# print(f\"\\n🔍 Vector store type: {type(vector_store)}\")"
   ]
  },
  {
   "cell_type": "code",
   "execution_count": 26,
   "id": "a7db7f2d",
   "metadata": {},
   "outputs": [
    {
     "name": "stdout",
     "output_type": "stream",
     "text": [
      "📚 Test retrieval found 2 documents\n",
      "📋 Available metadata fields: ['author', 'chunk_id', 'chunk_size', 'content_category', 'content_length', 'creationdate', 'document_name', 'document_type', 'language', 'moddate', 'page', 'page_label', 'page_number', 'section_type', 'source', 'total_chunks', 'total_pages']\n",
      "📄 Sample content: Leitfaden \n",
      "Datenschutzrecht \n",
      "Was Betriebe zu beachten haben \n",
      " \n",
      " \n",
      "Stand: November 2020 \n",
      " \n",
      "Abteilung Organisation und Recht...\n",
      "\n",
      "🔍 Vector store type: <class 'langchain_pinecone.vectorstores.PineconeVectorStore'>\n"
     ]
    }
   ],
   "source": [
    "# # Test the connection with current syntax\n",
    "# test_results = vector_store.similarity_search(\"Datenschutz\", k=2)\n",
    "# print(f\"📚 Test retrieval found {len(test_results)} documents\")\n",
    "\n",
    "# # Show metadata structure (useful for debugging)\n",
    "# if test_results:\n",
    "#     print(f\"📋 Available metadata fields: {list(test_results[0].metadata.keys())}\")\n",
    "#     print(f\"📄 Sample content: {test_results[0].page_content[:150]}...\")\n",
    "    \n",
    "# # Alternative: Check what's in the vector store\n",
    "# print(f\"\\n🔍 Vector store type: {type(vector_store)}\")"
   ]
  },
  {
   "cell_type": "markdown",
   "id": "62038f3b",
   "metadata": {},
   "source": [
    "## Verify Data and Create Retriever"
   ]
  },
  {
   "cell_type": "code",
   "execution_count": 19,
   "id": "7b749c96",
   "metadata": {},
   "outputs": [],
   "source": [
    "retriever=vector_store.as_retriever()"
   ]
  },
  {
   "cell_type": "code",
   "execution_count": 8,
   "id": "4f35af9b",
   "metadata": {},
   "outputs": [
    {
     "name": "stdout",
     "output_type": "stream",
     "text": [
      "🔍 Setting up retriever...\n",
      "✅ Retriever configured!\n",
      "   - Search type: similarity\n",
      "   - k: 3 documents\n",
      "   - score_threshold: 0.7\n",
      "\n",
      "🧪 Testing retriever...\n",
      "✅ Retriever test successful - found 3 documents\n"
     ]
    }
   ],
   "source": [
    "# # Verify data and create retriever with current syntax\n",
    "# print(\"🔍 Setting up retriever...\")\n",
    "\n",
    "# # Create retriever with current syntax\n",
    "# retriever = vector_store.as_retriever(\n",
    "#     search_type=\"similarity\",\n",
    "#     search_kwargs={\n",
    "#         \"k\": 3,  # Number of documents to retrieve\n",
    "#         \"score_threshold\": 0.7  # Optional: minimum similarity score\n",
    "#     }\n",
    "# )\n",
    "\n",
    "# print(\"✅ Retriever configured!\")\n",
    "# print(f\"   - Search type: similarity\")\n",
    "# print(f\"   - k: 3 documents\")\n",
    "# print(f\"   - score_threshold: 0.7\")\n",
    "\n",
    "# # Test the retriever\n",
    "# print(\"\\n🧪 Testing retriever...\")\n",
    "# test_docs = retriever.invoke(\"Datenverarbeitung Grundsätze\")\n",
    "# print(f\"✅ Retriever test successful - found {len(test_docs)} documents\")"
   ]
  },
  {
   "cell_type": "markdown",
   "id": "2f025b9f",
   "metadata": {},
   "source": [
    "## Current LLM Setup"
   ]
  },
  {
   "cell_type": "code",
   "execution_count": 39,
   "id": "011814e4",
   "metadata": {},
   "outputs": [
    {
     "name": "stdout",
     "output_type": "stream",
     "text": [
      "🚀 Initializing GPT-5 Nano LLM...\n",
      "✅ LLM initialized with current syntax!\n",
      "   - Model: gpt-5-nano\n",
      "   - Temperature: 0\n",
      "   - Max tokens: 500\n"
     ]
    }
   ],
   "source": [
    "# Initialize LLM with current syntax\n",
    "print(\"🚀 Initializing GPT-5 Nano LLM...\")\n",
    "\n",
    "llm_5_nano = ChatOpenAI(\n",
    "    model=\"gpt-5-nano\",\n",
    "    temperature=0,\n",
    "    max_tokens=500,\n",
    "    openai_api_key=OPENAI_API_KEY,\n",
    ")\n",
    "\n",
    "print(\"✅ LLM initialized with current syntax!\")\n",
    "print(f\"   - Model: gpt-5-nano\")\n",
    "print(f\"   - Temperature: 0\") \n",
    "print(f\"   - Max tokens: 500\")"
   ]
  },
  {
   "cell_type": "code",
   "execution_count": 16,
   "id": "5d2b8ed9",
   "metadata": {},
   "outputs": [
    {
     "name": "stdout",
     "output_type": "stream",
     "text": [
      "🚀 Testing with GPT-3.5-Turbo LLM...\n"
     ]
    }
   ],
   "source": [
    "# test with gpt-3.5-turbo\n",
    "print(\"🚀 Testing with GPT-3.5-Turbo LLM...\")\n",
    "\n",
    "llm_3_turbo = ChatOpenAI(\n",
    "    openai_api_key=OPENAI_API_KEY,\n",
    "    model_name='gpt-3.5-turbo',\n",
    "    temperature=0.0,\n",
    "    max_tokens=500,\n",
    ")"
   ]
  },
  {
   "cell_type": "markdown",
   "id": "06dde5c2",
   "metadata": {},
   "source": [
    "## Create QA Chain"
   ]
  },
  {
   "cell_type": "code",
   "execution_count": 27,
   "id": "368e2d66",
   "metadata": {},
   "outputs": [],
   "source": [
    "query_test = \"How long can i store my client's email?\"\n",
    "\n",
    "results_test = vector_store.similarity_search(\n",
    "    query_test,  # our search query\n",
    "    k=3  # return 3 most relevant docs\n",
    ")"
   ]
  },
  {
   "cell_type": "code",
   "execution_count": 31,
   "id": "54e1c540",
   "metadata": {},
   "outputs": [
    {
     "data": {
      "text/plain": [
       "[Document(id='1c200008-177f-4b67-85c1-b9bcc5d22d58', metadata={'author': 'Kasper, Lisa', 'chunk_id': 99.0, 'chunk_size': 727.0, 'content_category': 'customer_data', 'content_length': 2176.0, 'creationdate': '2020-11-06T11:24:59+01:00', 'document_name': 'ZDH_LEITFADEN_DATENSCHUTZ_BETRIEBE_HANDWERKER.pdf', 'document_type': 'zdh_gdpr_handbook', 'language': 'german', 'moddate': '2020-11-06T11:24:59+01:00', 'page': 34.0, 'page_label': '35', 'page_number': 35.0, 'section_type': 'content', 'source': '../2_data/raw/ZDH_LEITFADEN_DATENSCHUTZ_BETRIEBE_HANDWERKER.pdf', 'total_chunks': 266.0, 'total_pages': 99.0}, page_content='Gesetzliche Löschfristen  \\n \\nIn vereinzelten Fällen schreiben gesetzliche Regelungen vor, wann bestimmte Daten zu lö-\\nschen sind (für eine Ü bersicht gesetzlicher Löschfristen siehe die Anlage 17). Eine längere \\nAufbewahrung solcher Daten ist unzulässig.  \\n \\nEtwas anderes gilt nur dann, wenn die Daten zu einem anderen Zweck als zu dem, zu dem \\nsie ursprünglich erhoben wurden, weiterhin benötigt wer den. Eine solche Zweckänderung \\noder Zweckerweiterung ist jedoch an gesetzliche Zulässigkeitsvoraussetzungen gebunden \\n(Art. 6 Abs. 4 DSGVO).  \\n \\nBeispiel: \\nKundendaten werden nach Ablauf der Gewährleistungsfristen und der steuerrechtlichen \\nAufbewahrungspflichten – d.h. nach zehn Jahren – nicht mehr zur Abwicklung des Ver-'),\n",
       " Document(id='f937b9ef-9356-4254-9f7d-9453af9ad738', metadata={'author': 'Kasper, Lisa', 'chunk_id': 254.0, 'chunk_size': 788.0, 'content_category': 'legal_basis', 'content_length': 1075.0, 'creationdate': '2020-11-06T11:24:59+01:00', 'document_name': 'ZDH_LEITFADEN_DATENSCHUTZ_BETRIEBE_HANDWERKER.pdf', 'document_type': 'zdh_gdpr_handbook', 'language': 'german', 'moddate': '2020-11-06T11:24:59+01:00', 'page': 93.0, 'page_label': '94', 'page_number': 94.0, 'section_type': 'content', 'source': '../2_data/raw/ZDH_LEITFADEN_DATENSCHUTZ_BETRIEBE_HANDWERKER.pdf', 'total_chunks': 266.0, 'total_pages': 99.0}, page_content='Anlage 17 \\n \\nAufbewahrungs- und Löschfristen \\n \\nDie Liste stellt eine Übersicht praxisrelevanter Verfahren dar und erhebt keinen An-\\nspruch auf Vollständigkeit. \\n \\n \\nVerfahren \\n \\nGesetzliche \\nAufbewahrungspflicht \\n \\nGesetzliche \\nLöschfrist \\n \\nÜbliche, unverbindli-\\nche Löschfrist in der \\nPraxis \\n(es ist anzunehmen, dass \\neine längere Datenaufbe-\\nwahrung i.d.R. nicht erfor-\\nderlich ist) \\n \\nVerträge  \\n(z.B. Kauf-, Werk-, Leasing- \\noder Versicherungsvertrag) \\n \\n6 Jahre (die Frist be-\\nginnt nach Beendigung \\ndes Vertrags),  \\n§ 267 HGB, § 147 AO \\n \\n \\n--- \\n \\n \\n--- \\n \\nsteuerrelevante Aufzeich-\\nnungen, Inventare, Jahres-\\nabschlüsse, Lageberichte, \\nEröffnungsbilanz \\n \\n \\n10 Jahre, § 147 AO \\n \\n--- \\n \\n \\n--- \\n \\nEmpfangene und versen-\\ndete Geschäftsbriefe \\n \\n \\n6 Jahre, § 147 AO \\n \\n \\n--- \\n \\n---'),\n",
       " Document(id='e12789d2-f097-406c-8a14-e22ac302e07a', metadata={'author': 'Kasper, Lisa', 'chunk_id': 96.0, 'chunk_size': 718.0, 'content_category': 'legal_basis', 'content_length': 2338.0, 'creationdate': '2020-11-06T11:24:59+01:00', 'document_name': 'ZDH_LEITFADEN_DATENSCHUTZ_BETRIEBE_HANDWERKER.pdf', 'document_type': 'zdh_gdpr_handbook', 'language': 'german', 'moddate': '2020-11-06T11:24:59+01:00', 'page': 33.0, 'page_label': '34', 'page_number': 34.0, 'section_type': 'content', 'source': '../2_data/raw/ZDH_LEITFADEN_DATENSCHUTZ_BETRIEBE_HANDWERKER.pdf', 'total_chunks': 266.0, 'total_pages': 99.0}, page_content='Ob und wann die Aufbewahrung von Daten nicht mehr erforderlich ist, liegt grundsätzlich im \\nErmessen des Dateninhabers, also des Handwerksbetriebs, der die Daten erhoben hat. Al-\\nlerdings haben sich in der Praxis gewisse Fristen etabliert, nach deren Ablauf i n der Regel \\nanzunehmen ist, dass eine weitere Aufbewahrung nicht mehr erforderlich ist. Diese ergeben \\nsich meistens aus Verjährungsfristen, nach deren Ablauf ein Vorgang nicht mehr relevant ist. \\nSiehe hierzu die tabellarische Übersicht der Anlage 17.  \\n \\n \\nAufbewahrungspflichten \\n \\nUnabhängig davon, ob ein Handwerksbetrieb die erhobenen Daten noch oder nicht mehr \\nbenötigt, schreiben zahlreichliche gesetzliche Regelungen vor, dass bestimmte Daten min-')]"
      ]
     },
     "execution_count": 31,
     "metadata": {},
     "output_type": "execute_result"
    }
   ],
   "source": [
    "results_test"
   ]
  },
  {
   "cell_type": "code",
   "execution_count": 30,
   "id": "8f766e8c",
   "metadata": {},
   "outputs": [
    {
     "name": "stdout",
     "output_type": "stream",
     "text": [
      "Document 1 content:\n",
      "Gesetzliche Löschfristen  \n",
      " \n",
      "In vereinzelten Fällen schreiben gesetzliche Regelungen vor, wann bestimmte Daten zu lö-\n",
      "schen sind (für eine Ü bersicht gesetzlicher Löschfristen siehe die Anlage 17). Eine längere \n",
      "Aufbewahrung solcher Daten ist unzulässig.  \n",
      " \n",
      "Etwas anderes gilt nur dann, wenn die Daten zu einem anderen Zweck als zu dem, zu dem \n",
      "sie ursprünglich erhoben wurden, weiterhin benötigt wer den. Eine solche Zweckänderung \n",
      "oder Zweckerweiterung ist jedoch an gesetzliche Zulässigkeitsvoraussetzungen gebunden \n",
      "(Art. 6 Abs. 4 DSGVO).  \n",
      " \n",
      "Beispiel: \n",
      "Kundendaten werden nach Ablauf der Gewährleistungsfristen und der steuerrechtlichen \n",
      "Aufbewahrungspflichten – d.h. nach zehn Jahren – nicht mehr zur Abwicklung des Ver-\n",
      "------------------------------------------------------------\n",
      "Document 2 content:\n",
      "Anlage 17 \n",
      " \n",
      "Aufbewahrungs- und Löschfristen \n",
      " \n",
      "Die Liste stellt eine Übersicht praxisrelevanter Verfahren dar und erhebt keinen An-\n",
      "spruch auf Vollständigkeit. \n",
      " \n",
      " \n",
      "Verfahren \n",
      " \n",
      "Gesetzliche \n",
      "Aufbewahrungspflicht \n",
      " \n",
      "Gesetzliche \n",
      "Löschfrist \n",
      " \n",
      "Übliche, unverbindli-\n",
      "che Löschfrist in der \n",
      "Praxis \n",
      "(es ist anzunehmen, dass \n",
      "eine längere Datenaufbe-\n",
      "wahrung i.d.R. nicht erfor-\n",
      "derlich ist) \n",
      " \n",
      "Verträge  \n",
      "(z.B. Kauf-, Werk-, Leasing- \n",
      "oder Versicherungsvertrag) \n",
      " \n",
      "6 Jahre (die Frist be-\n",
      "ginnt nach Beendigung \n",
      "des Vertrags),  \n",
      "§ 267 HGB, § 147 AO \n",
      " \n",
      " \n",
      "--- \n",
      " \n",
      " \n",
      "--- \n",
      " \n",
      "steuerrelevante Aufzeich-\n",
      "nungen, Inventare, Jahres-\n",
      "abschlüsse, Lageberichte, \n",
      "Eröffnungsbilanz \n",
      " \n",
      " \n",
      "10 Jahre, § 147 AO \n",
      " \n",
      "--- \n",
      " \n",
      " \n",
      "--- \n",
      " \n",
      "Empfangene und versen-\n",
      "dete Geschäftsbriefe \n",
      " \n",
      " \n",
      "6 Jahre, § 147 AO \n",
      " \n",
      " \n",
      "--- \n",
      " \n",
      "---\n",
      "------------------------------------------------------------\n",
      "Document 3 content:\n",
      "Ob und wann die Aufbewahrung von Daten nicht mehr erforderlich ist, liegt grundsätzlich im \n",
      "Ermessen des Dateninhabers, also des Handwerksbetriebs, der die Daten erhoben hat. Al-\n",
      "lerdings haben sich in der Praxis gewisse Fristen etabliert, nach deren Ablauf i n der Regel \n",
      "anzunehmen ist, dass eine weitere Aufbewahrung nicht mehr erforderlich ist. Diese ergeben \n",
      "sich meistens aus Verjährungsfristen, nach deren Ablauf ein Vorgang nicht mehr relevant ist. \n",
      "Siehe hierzu die tabellarische Übersicht der Anlage 17.  \n",
      " \n",
      " \n",
      "Aufbewahrungspflichten \n",
      " \n",
      "Unabhängig davon, ob ein Handwerksbetrieb die erhobenen Daten noch oder nicht mehr \n",
      "benötigt, schreiben zahlreichliche gesetzliche Regelungen vor, dass bestimmte Daten min-\n",
      "------------------------------------------------------------\n"
     ]
    }
   ],
   "source": [
    "for i, doc in enumerate(results_test):\n",
    "\tprint(f\"Document {i+1} content:\\n{doc.page_content}\\n{'-'*60}\")"
   ]
  },
  {
   "cell_type": "code",
   "execution_count": 13,
   "id": "fe40e94b",
   "metadata": {},
   "outputs": [
    {
     "name": "stdout",
     "output_type": "stream",
     "text": [
      "{'query': \"How long can i store my client's email?\", 'result': \"According to the information provided, there is no specific legal requirement for how long you can store your client's email. It is generally up to the discretion of the data controller, which in this case would be the business that collected the data. However, it is recommended to establish a data retention policy or a deletion concept to determine when to delete data, taking into account legal requirements and best practices.\"}\n"
     ]
    }
   ],
   "source": [
    "# ---------------------------\n",
    "# Code adapted from lesson:\n",
    "\n",
    "qa_test = RetrievalQA.from_chain_type(\n",
    "    llm=llm_3_turbo,\n",
    "    chain_type=\"stuff\",\n",
    "    retriever=vector_store.as_retriever()\n",
    ")\n",
    "\n",
    "query_test = \"How long can i store my client's email?\"\n",
    "\n",
    "print(qa_test.invoke(query_test))\n"
   ]
  },
  {
   "cell_type": "code",
   "execution_count": 36,
   "id": "6db88797",
   "metadata": {},
   "outputs": [
    {
     "name": "stdout",
     "output_type": "stream",
     "text": [
      "🔗 Creating QA chain...\n"
     ]
    }
   ],
   "source": [
    "# Create prompt template and QA chain with current syntax\n",
    "print(\"🔗 Creating QA chain...\")\n",
    "\n",
    "# Current prompt template\n",
    "prompt_template_de = \"\"\"Du bist ein spezialisierter Assistent für Datenschutzfragen für Handwerksbetriebe\n",
    ".\n",
    "\n",
    "Antworte AUF DEUTSCH basierend auf dem bereitgestellten Kontext. \n",
    "Sei präzise und fokussiere auf die praktische Umsetzung für Handwerksbetriebe.\n",
    "\n",
    "Kontext: {context}\n",
    "\n",
    "Frage: {question}\n",
    "\n",
    "Antwort (präzise, praxisorientiert):\"\"\"\n",
    "\n",
    "PROMPT_de = PromptTemplate(\n",
    "    template=prompt_template_de, \n",
    "    input_variables=[\"context\", \"question\"]\n",
    ")\n",
    "\n",
    "# Create QA chain with current syntax\n",
    "qa_chain_de = RetrievalQA.from_chain_type(\n",
    "    llm=llm_3_turbo,\n",
    "    chain_type=\"stuff\",\n",
    "    retriever=retriever,\n",
    "    chain_type_kwargs={\"prompt\": PROMPT_de},\n",
    "    return_source_documents=True\n",
    ")\n"
   ]
  },
  {
   "cell_type": "code",
   "execution_count": 58,
   "id": "8da542ec",
   "metadata": {},
   "outputs": [
    {
     "name": "stdout",
     "output_type": "stream",
     "text": [
      "🔗 Creating QA chain...\n"
     ]
    }
   ],
   "source": [
    "# Create prompt template and QA chain with current syntax\n",
    "print(\"🔗 Creating QA chain...\")\n",
    "\n",
    "# Current prompt template\n",
    "prompt_template_en = \"\"\"You are a privacy assistant specialized in GDPR for small craft businesses. \n",
    "Explain in a clear, practical, and easy-to-understand way based on the following context. \n",
    "This is not legal advice. If the context does not contain the answer, say so openly.\n",
    "\n",
    "Context:\n",
    "{context}\n",
    "\n",
    "Question:\n",
    "{question}\n",
    "\n",
    "Answer (short and practical):\"\"\"\n",
    "\n",
    "PROMPT_en = PromptTemplate(\n",
    "    template=prompt_template, \n",
    "    input_variables=[\"context\", \"question\"]\n",
    ")\n",
    "\n",
    "# Create QA chain with current syntax\n",
    "qa_chain_en = RetrievalQA.from_chain_type(\n",
    "    llm=llm_3_turbo,\n",
    "    chain_type=\"stuff\",\n",
    "    retriever=retriever,\n",
    "    chain_type_kwargs={\"prompt\": PROMPT_en},\n",
    "    return_source_documents=True\n",
    ")\n"
   ]
  },
  {
   "cell_type": "code",
   "execution_count": 42,
   "id": "204b535b",
   "metadata": {},
   "outputs": [
    {
     "name": "stdout",
     "output_type": "stream",
     "text": [
      "🔗 Creating QA chain with 'gpt-5-nano' ...\n"
     ]
    }
   ],
   "source": [
    "# Create prompt template and QA chain with current syntax\n",
    "print(\"🔗 Creating QA chain with 'gpt-5-nano' ...\")\n",
    "\n",
    "# Current prompt template\n",
    "prompt_template_en = \"\"\"You are a privacy assistant specialized in GDPR for small craft businesses. \n",
    "Explain in a clear, practical, and easy-to-understand way based on the following context. \n",
    "This is not legal advice. If the context does not contain the answer, say so openly.\n",
    "\n",
    "Context:\n",
    "{context}\n",
    "\n",
    "Question:\n",
    "{question}\n",
    "\n",
    "Answer (short and practical):\"\"\"\n",
    "\n",
    "PROMPT_en = PromptTemplate(\n",
    "    template=prompt_template, \n",
    "    input_variables=[\"context\", \"question\"]\n",
    ")\n",
    "\n",
    "# Create QA chain with current syntax\n",
    "qa_chain_en_5_nano = RetrievalQA.from_chain_type(\n",
    "    llm=llm_5_nano,\n",
    "    chain_type=\"stuff\",\n",
    "    retriever=retriever,\n",
    "    chain_type_kwargs={\"prompt\": PROMPT_en},\n",
    "    return_source_documents=True\n",
    ")"
   ]
  },
  {
   "cell_type": "markdown",
   "id": "f1cabd84",
   "metadata": {},
   "source": [
    "## Create a helper function to test the agent and display results.\n"
   ]
  },
  {
   "cell_type": "code",
   "execution_count": 59,
   "id": "ad62b5aa",
   "metadata": {},
   "outputs": [],
   "source": [
    "def ask_gdpr_question_en(question, show_sources=True):\n",
    "    \"\"\"\n",
    "    Ask a question to the GDPR assistant and display the response with sources.\n",
    "    \n",
    "    Args:\n",
    "        question (str): The question to ask (in German or English)\n",
    "        show_sources (bool): Whether to display source documents\n",
    "    \n",
    "    Returns:\n",
    "        dict: Complete result with answer and source documents\n",
    "    \"\"\"\n",
    "    print(f\"❓ Question: {question}\")\n",
    "    print(\"⏳ Denke nach...\")\n",
    "    \n",
    "    # Get answer from QA chain\n",
    "    result = qa_chain_en.invoke({\"query\": question})\n",
    "\n",
    "    # Check if we got a valid answer\n",
    "    answer = result.get('result', '').strip()\n",
    "    \n",
    "    print(f\"✅ Answer: {result['result']}\")\n",
    "    \n",
    "    # Show source documents if requested\n",
    "    if show_sources and result['source_documents']:\n",
    "        print(f\"\\n📚 Source ({len(result['source_documents'])}):\")\n",
    "        for i, doc in enumerate(result['source_documents']):\n",
    "            source_text = doc.page_content.replace('\\n', ' ').strip()\n",
    "            print(f\"   {i+1}. {source_text[:150]}...\")\n",
    "    \n",
    "    print(\"―\" * 80)\n",
    "    return result\n"
   ]
  },
  {
   "cell_type": "code",
   "execution_count": 37,
   "id": "57d421ee",
   "metadata": {},
   "outputs": [],
   "source": [
    "def ask_gdpr_question_de(question, show_sources=True):\n",
    "    \"\"\"\n",
    "    Ask a question to the GDPR assistant and display the response with sources.\n",
    "    \n",
    "    Args:\n",
    "        question (str): The question to ask (in German or English)\n",
    "        show_sources (bool): Whether to display source documents\n",
    "    \n",
    "    Returns:\n",
    "        dict: Complete result with answer and source documents\n",
    "    \"\"\"\n",
    "    print(f\"❓ Frage: {question}\")\n",
    "    print(\"⏳ Denke nach...\")\n",
    "    \n",
    "    # Get answer from QA chain\n",
    "    result = qa_chain_de.invoke({\"query\": question})\n",
    "\n",
    "    # Check if we got a valid answer\n",
    "    answer = result.get('result', '').strip()\n",
    "    \n",
    "    print(f\"✅ Antwort: {result['result']}\")\n",
    "    \n",
    "    # Show source documents if requested\n",
    "    if show_sources and result['source_documents']:\n",
    "        print(f\"\\n📚 Verwendete Quellen ({len(result['source_documents'])}):\")\n",
    "        for i, doc in enumerate(result['source_documents']):\n",
    "            source_text = doc.page_content.replace('\\n', ' ').strip()\n",
    "            print(f\"   {i+1}. {source_text[:150]}...\")\n",
    "    \n",
    "    print(\"―\" * 80)\n",
    "    return result\n"
   ]
  },
  {
   "cell_type": "code",
   "execution_count": null,
   "id": "d5274e4a",
   "metadata": {},
   "outputs": [],
   "source": [
    "def ask_gdpr_question_en_5_nano(question, show_sources=True):\n",
    "    \"\"\"\n",
    "    Ask a question to the GDPR assistant and display the response with sources.\n",
    "    \n",
    "    Args:\n",
    "        question (str): The question to ask (in German or English)\n",
    "        show_sources (bool): Whether to display source documents\n",
    "    \n",
    "    Returns:\n",
    "        dict: Complete result with answer and source documents\n",
    "    \"\"\"\n",
    "    print(f\"❓ Question: {question}\")\n",
    "    print(\"⏳ Denke nach...\")\n",
    "    \n",
    "    # Get answer from QA chain\n",
    "    result = qa_chain_en_5_nano.invoke({\"query\": question})\n",
    "\n",
    "    # Check if we got a valid answer\n",
    "    answer = result.get('result', '').strip()\n",
    "    \n",
    "    print(f\"✅ Answer: {result['result']}\")\n",
    "    \n",
    "    # Show source documents if requested\n",
    "    if show_sources and result['source_documents']:\n",
    "        print(f\"\\n📚 Source ({len(result['source_documents'])}):\")\n",
    "        for i, doc in enumerate(result['source_documents']):\n",
    "            source_text = doc.page_content.replace('\\n', ' ').strip()\n",
    "            print(f\"   {i+1}. {source_text[:150]}...\")\n",
    "    \n",
    "    print(\"―\" * 80)\n",
    "    return result\n"
   ]
  },
  {
   "cell_type": "code",
   "execution_count": 22,
   "id": "2d8fe9bd",
   "metadata": {},
   "outputs": [
    {
     "name": "stdout",
     "output_type": "stream",
     "text": [
      "{'query': \"How long can i store my client's email?\", 'result': \"You can store your client's email for as long as it is necessary for the purpose for which it was originally collected. If the email is no longer needed for that purpose, it should be deleted according to legal requirements and best practices.\", 'source_documents': [Document(id='1c200008-177f-4b67-85c1-b9bcc5d22d58', metadata={'author': 'Kasper, Lisa', 'chunk_id': 99.0, 'chunk_size': 727.0, 'content_category': 'customer_data', 'content_length': 2176.0, 'creationdate': '2020-11-06T11:24:59+01:00', 'document_name': 'ZDH_LEITFADEN_DATENSCHUTZ_BETRIEBE_HANDWERKER.pdf', 'document_type': 'zdh_gdpr_handbook', 'language': 'german', 'moddate': '2020-11-06T11:24:59+01:00', 'page': 34.0, 'page_label': '35', 'page_number': 35.0, 'section_type': 'content', 'source': '../2_data/raw/ZDH_LEITFADEN_DATENSCHUTZ_BETRIEBE_HANDWERKER.pdf', 'total_chunks': 266.0, 'total_pages': 99.0}, page_content='Gesetzliche Löschfristen  \\n \\nIn vereinzelten Fällen schreiben gesetzliche Regelungen vor, wann bestimmte Daten zu lö-\\nschen sind (für eine Ü bersicht gesetzlicher Löschfristen siehe die Anlage 17). Eine längere \\nAufbewahrung solcher Daten ist unzulässig.  \\n \\nEtwas anderes gilt nur dann, wenn die Daten zu einem anderen Zweck als zu dem, zu dem \\nsie ursprünglich erhoben wurden, weiterhin benötigt wer den. Eine solche Zweckänderung \\noder Zweckerweiterung ist jedoch an gesetzliche Zulässigkeitsvoraussetzungen gebunden \\n(Art. 6 Abs. 4 DSGVO).  \\n \\nBeispiel: \\nKundendaten werden nach Ablauf der Gewährleistungsfristen und der steuerrechtlichen \\nAufbewahrungspflichten – d.h. nach zehn Jahren – nicht mehr zur Abwicklung des Ver-'), Document(id='f937b9ef-9356-4254-9f7d-9453af9ad738', metadata={'author': 'Kasper, Lisa', 'chunk_id': 254.0, 'chunk_size': 788.0, 'content_category': 'legal_basis', 'content_length': 1075.0, 'creationdate': '2020-11-06T11:24:59+01:00', 'document_name': 'ZDH_LEITFADEN_DATENSCHUTZ_BETRIEBE_HANDWERKER.pdf', 'document_type': 'zdh_gdpr_handbook', 'language': 'german', 'moddate': '2020-11-06T11:24:59+01:00', 'page': 93.0, 'page_label': '94', 'page_number': 94.0, 'section_type': 'content', 'source': '../2_data/raw/ZDH_LEITFADEN_DATENSCHUTZ_BETRIEBE_HANDWERKER.pdf', 'total_chunks': 266.0, 'total_pages': 99.0}, page_content='Anlage 17 \\n \\nAufbewahrungs- und Löschfristen \\n \\nDie Liste stellt eine Übersicht praxisrelevanter Verfahren dar und erhebt keinen An-\\nspruch auf Vollständigkeit. \\n \\n \\nVerfahren \\n \\nGesetzliche \\nAufbewahrungspflicht \\n \\nGesetzliche \\nLöschfrist \\n \\nÜbliche, unverbindli-\\nche Löschfrist in der \\nPraxis \\n(es ist anzunehmen, dass \\neine längere Datenaufbe-\\nwahrung i.d.R. nicht erfor-\\nderlich ist) \\n \\nVerträge  \\n(z.B. Kauf-, Werk-, Leasing- \\noder Versicherungsvertrag) \\n \\n6 Jahre (die Frist be-\\nginnt nach Beendigung \\ndes Vertrags),  \\n§ 267 HGB, § 147 AO \\n \\n \\n--- \\n \\n \\n--- \\n \\nsteuerrelevante Aufzeich-\\nnungen, Inventare, Jahres-\\nabschlüsse, Lageberichte, \\nEröffnungsbilanz \\n \\n \\n10 Jahre, § 147 AO \\n \\n--- \\n \\n \\n--- \\n \\nEmpfangene und versen-\\ndete Geschäftsbriefe \\n \\n \\n6 Jahre, § 147 AO \\n \\n \\n--- \\n \\n---'), Document(id='e12789d2-f097-406c-8a14-e22ac302e07a', metadata={'author': 'Kasper, Lisa', 'chunk_id': 96.0, 'chunk_size': 718.0, 'content_category': 'legal_basis', 'content_length': 2338.0, 'creationdate': '2020-11-06T11:24:59+01:00', 'document_name': 'ZDH_LEITFADEN_DATENSCHUTZ_BETRIEBE_HANDWERKER.pdf', 'document_type': 'zdh_gdpr_handbook', 'language': 'german', 'moddate': '2020-11-06T11:24:59+01:00', 'page': 33.0, 'page_label': '34', 'page_number': 34.0, 'section_type': 'content', 'source': '../2_data/raw/ZDH_LEITFADEN_DATENSCHUTZ_BETRIEBE_HANDWERKER.pdf', 'total_chunks': 266.0, 'total_pages': 99.0}, page_content='Ob und wann die Aufbewahrung von Daten nicht mehr erforderlich ist, liegt grundsätzlich im \\nErmessen des Dateninhabers, also des Handwerksbetriebs, der die Daten erhoben hat. Al-\\nlerdings haben sich in der Praxis gewisse Fristen etabliert, nach deren Ablauf i n der Regel \\nanzunehmen ist, dass eine weitere Aufbewahrung nicht mehr erforderlich ist. Diese ergeben \\nsich meistens aus Verjährungsfristen, nach deren Ablauf ein Vorgang nicht mehr relevant ist. \\nSiehe hierzu die tabellarische Übersicht der Anlage 17.  \\n \\n \\nAufbewahrungspflichten \\n \\nUnabhängig davon, ob ein Handwerksbetrieb die erhobenen Daten noch oder nicht mehr \\nbenötigt, schreiben zahlreichliche gesetzliche Regelungen vor, dass bestimmte Daten min-'), Document(id='fc2cbeec-b5d9-4fa2-8039-ce29fb7b38a3', metadata={'author': 'Kasper, Lisa', 'chunk_id': 100.0, 'chunk_size': 725.0, 'content_category': 'customer_data', 'content_length': 2176.0, 'creationdate': '2020-11-06T11:24:59+01:00', 'document_name': 'ZDH_LEITFADEN_DATENSCHUTZ_BETRIEBE_HANDWERKER.pdf', 'document_type': 'zdh_gdpr_handbook', 'language': 'german', 'moddate': '2020-11-06T11:24:59+01:00', 'page': 34.0, 'page_label': '35', 'page_number': 35.0, 'section_type': 'content', 'source': '../2_data/raw/ZDH_LEITFADEN_DATENSCHUTZ_BETRIEBE_HANDWERKER.pdf', 'total_chunks': 266.0, 'total_pages': 99.0}, page_content='Aufbewahrungspflichten – d.h. nach zehn Jahren – nicht mehr zur Abwicklung des Ver-\\ntrags benötigt. Die Daten des Kunden können jedoch für die weitere Geschäftsbeziehung \\nund zur Kundenbindung erforderlich sein. Für diese Zwecke dürfen die Daten in der Regel \\nweiterhin aufbewahrt werden.   \\n \\n \\nWas ist ein Löschkonzept? \\n \\nIm Zusammenhang mit der Löschung von Daten wird häufig von einem Löschkonzept ge-\\nsprochen. Damit ist gemeint, dass jeder Betrieb einen Überblick darüber haben sollte, wel-\\nche Daten vorhanden/gespeichert sind und wann diese unter Beachtung der vorstehenden \\nRegeln gelöscht werden.   \\n \\n \\nWie ist zu löschen? \\n \\nSind Daten weder weiterhin aufzubewahren noch archivwürdig, müssen sie gelöscht werden.')]}\n"
     ]
    }
   ],
   "source": [
    "\n",
    "# qa_chain_eng = RetrievalQA.from_chain_type(llm=llm, chain_type=\"stuff\", retriever=retriever, chain_type_kwargs={\"prompt\": \"{query}\"}, return_source_documents=True)\n",
    "print(qa_chain_en.invoke({\"query\": \"How long can i store my client's email?\"}))\n",
    "\n",
    "# print(\"✅ QA chain created successfully!\")"
   ]
  },
  {
   "cell_type": "markdown",
   "id": "97c2f969",
   "metadata": {},
   "source": [
    "## Test the RAG System\n",
    "\n",
    "Now let's test the system with various GDPR questions.\n"
   ]
  },
  {
   "cell_type": "code",
   "execution_count": 24,
   "id": "632914b4",
   "metadata": {},
   "outputs": [
    {
     "name": "stdout",
     "output_type": "stream",
     "text": [
      "🧪 TEST 1: Aufbewahrungsfristen\n",
      "❓ Frage: How long can i keep a client's email stored?\n",
      "⏳ Denke nach...\n",
      "✅ Answer: You can keep a client's email stored for as long as it is necessary for the purpose for which it was originally collected. After that, you should delete it unless there are legal requirements or other legitimate reasons for keeping it.\n",
      "\n",
      "📚 Source (4):\n",
      "   1. Gesetzliche Löschfristen     In vereinzelten Fällen schreiben gesetzliche Regelungen vor, wann bestimmte Daten zu lö- schen sind (für eine Ü bersicht ...\n",
      "   2. Ob und wann die Aufbewahrung von Daten nicht mehr erforderlich ist, liegt grundsätzlich im  Ermessen des Dateninhabers, also des Handwerksbetriebs, de...\n",
      "   3. benötigt, schreiben zahlreichliche gesetzliche Regelungen vor, dass bestimmte Daten min- destens für einen konkreten Zeitraum aufzubewahren sind. Solc...\n",
      "   4. Aufbewahrungspflichten – d.h. nach zehn Jahren – nicht mehr zur Abwicklung des Ver- trags benötigt. Die Daten des Kunden können jedoch für die weitere...\n",
      "――――――――――――――――――――――――――――――――――――――――――――――――――――――――――――――――――――――――――――――――\n"
     ]
    }
   ],
   "source": [
    "# Test 1: Data retention periods\n",
    "print(\"🧪 TEST 1 ('gpt-3.5-turbo'): Data retention periods: english Q > EN temp prompt > A english?\")\n",
    "result2 = ask_gdpr_question_en(\"How long can i keep a client's email stored?\")"
   ]
  },
  {
   "cell_type": "code",
   "execution_count": 45,
   "id": "95623961",
   "metadata": {},
   "outputs": [
    {
     "name": "stdout",
     "output_type": "stream",
     "text": [
      "🧪 TEST 1b ('gpt-5-nano'): Data retention periods: english Q > EN temp prompt > A english?\n",
      "❓ Frage: How long can i keep a client's email stored?\n",
      "⏳ Denke nach...\n",
      "✅ Answer: \n",
      "\n",
      "📚 Source (4):\n",
      "   1. Gesetzliche Löschfristen     In vereinzelten Fällen schreiben gesetzliche Regelungen vor, wann bestimmte Daten zu lö- schen sind (für eine Ü bersicht ...\n",
      "   2. Ob und wann die Aufbewahrung von Daten nicht mehr erforderlich ist, liegt grundsätzlich im  Ermessen des Dateninhabers, also des Handwerksbetriebs, de...\n",
      "   3. benötigt, schreiben zahlreichliche gesetzliche Regelungen vor, dass bestimmte Daten min- destens für einen konkreten Zeitraum aufzubewahren sind. Solc...\n",
      "   4. Aufbewahrungspflichten – d.h. nach zehn Jahren – nicht mehr zur Abwicklung des Ver- trags benötigt. Die Daten des Kunden können jedoch für die weitere...\n",
      "――――――――――――――――――――――――――――――――――――――――――――――――――――――――――――――――――――――――――――――――\n"
     ]
    }
   ],
   "source": [
    "print(\"🧪 TEST 1b ('gpt-5-nano'): Data retention periods: english Q > EN temp prompt > A english?\")\n",
    "result2_nano = ask_gdpr_question_en_5_nano(\"How long can i keep a client's email stored?\")"
   ]
  },
  {
   "cell_type": "code",
   "execution_count": 32,
   "id": "b4fc1467",
   "metadata": {},
   "outputs": [
    {
     "name": "stdout",
     "output_type": "stream",
     "text": [
      "🧪 TEST 4: Mitarbeiterdaten\n",
      "❓ Frage: Welche Regeln gelten für die Verarbeitung von Mitarbeiterdaten?\n",
      "⏳ Denke nach...\n",
      "✅ Answer: Für die Verarbeitung von Mitarbeiterdaten gelten die Rechte der DSGVO und des BDSG. Arbeitgeber dürfen nur Daten erheben, die für das Beschäftigungsverhältnis relevant sind und müssen die Mitarbeiter darüber informieren.\n",
      "\n",
      "📚 Source (4):\n",
      "   1. 9. Rechtmäßige Datenverarbeitung von Beschäftigten      Gilt der Datenschutz auch in Beschäftigungsverhältnissen?    Ja. Für Beschäftigte gelten – wie...\n",
      "   2. Im Bundesdatenschutzgesetz werden lediglich zur Klarstellung bestimmte allgemeine Daten- schutzrechte nochmals gesondert für Beschäftigte geregelt (§ ...\n",
      "   3. bei.    Einwilligungen sind nur wirksam, wenn sie freiwillig erklärt werden (siehe hierzu Kapitel 2 „An- forderungen der datenschutzrechtlichen Einwil...\n",
      "   4. gesetzlich vorgeschriebenen Informations- und Dokumentationspflichten zu erfüllen.     Arbeitgeber sind in diesem Zusammenhang verpflichtet:     ◼ Die...\n",
      "――――――――――――――――――――――――――――――――――――――――――――――――――――――――――――――――――――――――――――――――\n"
     ]
    }
   ],
   "source": [
    "# Test 4: Employee data (Question in German through the english Prompt template pipeline)\n",
    "print(\"🧪 TEST 4: Mitarbeiterdaten\")\n",
    "result4 = ask_gdpr_question_en(\"Welche Regeln gelten für die Verarbeitung von Mitarbeiterdaten?\")\n"
   ]
  },
  {
   "cell_type": "code",
   "execution_count": 33,
   "id": "b3909eaf",
   "metadata": {},
   "outputs": [
    {
     "name": "stdout",
     "output_type": "stream",
     "text": [
      "🧪 TEST 4: Mitarbeiterdaten\n",
      "❓ Frage: Welche Regeln gelten für die Verarbeitung von Mitarbeiterdaten?\n",
      "⏳ Denke nach...\n",
      "✅ Antwort: Für die Verarbeitung von Mitarbeiterdaten gelten die Rechte der DSGVO und des BDSG. Arbeitgeber dürfen personenbezogene Daten ihrer Mitarbeiter erheben, speichern und nutzen, wenn dies für das Beschäftigungsverhältnis erforderlich ist. Es müssen Informations- und Dokumentationspflichten erfüllt werden, z.B. die Mitarbeiter zu Beginn des Beschäftigungsverhältnisses über die Datenverarbeitung informieren und die Prozesse dokumentieren. Einwilligungen müssen freiwillig erfolgen, ohne Zwang oder Druck.\n",
      "\n",
      "📚 Verwendete Quellen (4):\n",
      "   1. 9. Rechtmäßige Datenverarbeitung von Beschäftigten      Gilt der Datenschutz auch in Beschäftigungsverhältnissen?    Ja. Für Beschäftigte gelten – wie...\n",
      "   2. Im Bundesdatenschutzgesetz werden lediglich zur Klarstellung bestimmte allgemeine Daten- schutzrechte nochmals gesondert für Beschäftigte geregelt (§ ...\n",
      "   3. bei.    Einwilligungen sind nur wirksam, wenn sie freiwillig erklärt werden (siehe hierzu Kapitel 2 „An- forderungen der datenschutzrechtlichen Einwil...\n",
      "   4. gesetzlich vorgeschriebenen Informations- und Dokumentationspflichten zu erfüllen.     Arbeitgeber sind in diesem Zusammenhang verpflichtet:     ◼ Die...\n",
      "――――――――――――――――――――――――――――――――――――――――――――――――――――――――――――――――――――――――――――――――\n"
     ]
    }
   ],
   "source": [
    "# Test 4: Employee data (Question in German through the GERMAN Prompt template pipeline)\n",
    "print(\"🧪 TEST 4: Mitarbeiterdaten\")\n",
    "result4 = ask_gdpr_question_de(\"Welche Regeln gelten für die Verarbeitung von Mitarbeiterdaten?\")\n"
   ]
  },
  {
   "cell_type": "code",
   "execution_count": 38,
   "id": "7dee08cc",
   "metadata": {},
   "outputs": [
    {
     "name": "stdout",
     "output_type": "stream",
     "text": [
      "🧪 TEST 4: Mitarbeiterdaten\n",
      "❓ Frage: What do i have to watch out when sending promotional marketing emails to new clients?\n",
      "⏳ Denke nach...\n",
      "✅ Antwort: Bevor Sie Werbe-E-Mails an neue Kunden senden, müssen Sie sicherstellen, dass Sie die ausdrückliche Einwilligung der Kunden haben. Dies bedeutet, dass die Kunden aktiv zugestimmt haben, ihre Kontaktdaten für Werbezwecke zu verwenden. Die Einwilligung muss freiwillig und jederzeit widerruflich sein. Außerdem müssen Sie sicherstellen, dass die Kunden die Möglichkeit haben, der Werbung jederzeit zu widersprechen. Beachten Sie auch, dass für Werbung per E-Mail eine separate Einwilligung erforderlich ist.\n",
      "\n",
      "📚 Verwendete Quellen (4):\n",
      "   1. 7 DSGVO), ist die Einwilligung der Kunden zwingend erforderlich. Eine Mustereinwilligung  liegt als Anlage 19 bei.       Wettbewerbsrecht beachten    ...\n",
      "   2. Anlage 1    Anforderungen der datenschutzrechtlichen Einwilligung        Muster     Einwilligungserklärung          In unserem Werbenewsletter informi...\n",
      "   3. zusprechen).      Beachte: Die Datennutzung zur Direktwerbung ist zulässig. Allerdings dürfen Betroffene der  Werbung jederzeit widersprechen (Art. 21...\n",
      "   4. Anlage 20    Musterformulierung:  Einwilligung zur Kontaktaufnahme per E-Mail, Telefon, Fax (Werbung)          Gerne möchten wir, die Mustermannbetrie...\n",
      "――――――――――――――――――――――――――――――――――――――――――――――――――――――――――――――――――――――――――――――――\n"
     ]
    }
   ],
   "source": [
    "# Test 4: Employee data (Question in German through the GERMAN Prompt template pipeline)\n",
    "print(\"🧪 TEST 4: Mitarbeiterdaten\")\n",
    "result4 = ask_gdpr_question_de(\"What do i have to watch out when sending promotional marketing emails to new clients?\")\n"
   ]
  },
  {
   "cell_type": "markdown",
   "id": "18120e9a",
   "metadata": {},
   "source": [
    "## AGENT: Initializing the Conversational Agent"
   ]
  },
  {
   "cell_type": "code",
   "execution_count": 60,
   "id": "924a95dd",
   "metadata": {},
   "outputs": [],
   "source": [
    "from langchain.chains.conversation.memory import ConversationBufferWindowMemory\n",
    "\n",
    "# conversational memory\n",
    "conversational_memory = ConversationBufferWindowMemory(\n",
    "    memory_key='chat_history',\n",
    "    k=2,\n",
    "    return_messages=True\n",
    ")"
   ]
  },
  {
   "cell_type": "code",
   "execution_count": 61,
   "id": "6df5dd68",
   "metadata": {},
   "outputs": [],
   "source": [
    "from langchain.agents import Tool"
   ]
  },
  {
   "cell_type": "code",
   "execution_count": 62,
   "id": "685da778",
   "metadata": {},
   "outputs": [
    {
     "name": "stdout",
     "output_type": "stream",
     "text": [
      "🛠️ Creating tool from QA chain...\n",
      "✅ GDPR tool created!\n",
      "Tool name: GDPR_Knowledge_Base\n",
      "Tool description: Use this tool when answering GDPR, data protection, or privacy questions for craftspeople and small businesses. It contains official guidelines from the ZDH Data Protection Guide for German Crafts Businesses, small Businesses and skilled trades. ZDH = Zentralverband des Deutschen Handwerks / Central Association of German Skilled Trades\n"
     ]
    }
   ],
   "source": [
    "# Create a tool from your existing QA chain\n",
    "print(\"🛠️ Creating tool from QA chain...\")\n",
    "\n",
    "gdpr_tool = Tool(\n",
    "    name='GDPR_Knowledge_Base',\n",
    "    func=lambda query: qa_chain_en.invoke({\"query\": query})[\"result\"],\n",
    "    description=(\n",
    "        'Use this tool when answering GDPR, data protection, or privacy questions for craftspeople and small businesses. '\n",
    "        'It contains official guidelines from the ZDH Data Protection Guide for German Crafts Businesses, small Businesses and skilled trades. ZDH = Zentralverband des Deutschen Handwerks / Central Association of German Skilled Trades'\n",
    "    )\n",
    ")\n",
    "\n",
    "tools = [gdpr_tool]\n",
    "\n",
    "print(\"✅ GDPR tool created!\")\n",
    "print(f\"Tool name: {gdpr_tool.name}\")\n",
    "print(f\"Tool description: {gdpr_tool.description}\")"
   ]
  },
  {
   "cell_type": "code",
   "execution_count": 63,
   "id": "d4f1ce73",
   "metadata": {},
   "outputs": [],
   "source": [
    "from langchain.agents import initialize_agent"
   ]
  },
  {
   "cell_type": "code",
   "execution_count": 64,
   "id": "42f5a7f7",
   "metadata": {},
   "outputs": [
    {
     "name": "stdout",
     "output_type": "stream",
     "text": [
      "✅ Conversational agent initialized!\n",
      "Agent type: chat-conversational-react-description\n",
      "Tools: ['GDPR_Knowledge_Base']\n",
      "Memory: Enabled\n"
     ]
    }
   ],
   "source": [
    "agent = initialize_agent(\n",
    "    agent='chat-conversational-react-description',\n",
    "    tools=tools,\n",
    "    llm=llm_3_turbo,\n",
    "    verbose=True,\n",
    "    max_iterations=3,\n",
    "    early_stopping_method='generate',\n",
    "    memory=conversational_memory\n",
    ")\n",
    "\n",
    "print(\"✅ Conversational agent initialized!\")\n",
    "print(f\"Agent type: chat-conversational-react-description\")\n",
    "print(f\"Tools: {[tool.name for tool in tools]}\")\n",
    "print(f\"Memory: Enabled\")"
   ]
  },
  {
   "cell_type": "code",
   "execution_count": 66,
   "id": "6671cd47",
   "metadata": {},
   "outputs": [],
   "source": [
    "# Cell: Function for the Agent (German + English)\n",
    "def ask_gdpr_agent(question):\n",
    "    \"\"\"\n",
    "    Simple agent function without try/except\n",
    "    \"\"\"\n",
    "    print(f\"🤔 Question: {question}\")\n",
    "    result = agent.invoke({\"input\": question})\n",
    "    print(f\"✅ Answer: {result['output']}\\n\")\n",
    "    return result\n"
   ]
  },
  {
   "cell_type": "code",
   "execution_count": 56,
   "id": "1185777d",
   "metadata": {},
   "outputs": [
    {
     "name": "stdout",
     "output_type": "stream",
     "text": [
      "🧪 Agent TEST 1 ('gpt-3.5-turbo'): Employee survailance: english Q > EN Agent prompt > A english?\n",
      "🤔 Question: Can I install surveillance cameras to monitor my employees?\n",
      "\n",
      "\n",
      "\u001b[1m> Entering new AgentExecutor chain...\u001b[0m\n",
      "\u001b[32;1m\u001b[1;3m```json\n",
      "{\n",
      "    \"action\": \"Final Answer\",\n",
      "    \"action_input\": \"Installing surveillance cameras to monitor employees may raise privacy and legal concerns. It is important to consider relevant laws and regulations, such as GDPR, to ensure compliance and protect the rights of employees.\"\n",
      "}\n",
      "```\u001b[0m\n",
      "\n",
      "\u001b[1m> Finished chain.\u001b[0m\n",
      "✅ Answer: Installing surveillance cameras to monitor employees may raise privacy and legal concerns. It is important to consider relevant laws and regulations, such as GDPR, to ensure compliance and protect the rights of employees.\n",
      "\n"
     ]
    },
    {
     "data": {
      "text/plain": [
       "{'input': 'Can I install surveillance cameras to monitor my employees?',\n",
       " 'chat_history': [],\n",
       " 'output': 'Installing surveillance cameras to monitor employees may raise privacy and legal concerns. It is important to consider relevant laws and regulations, such as GDPR, to ensure compliance and protect the rights of employees.'}"
      ]
     },
     "execution_count": 56,
     "metadata": {},
     "output_type": "execute_result"
    }
   ],
   "source": [
    "# Agent Test 1: Employee survailance\n",
    "print(\"🧪 Agent TEST 1 ('gpt-3.5-turbo'): Employee survailance: english Q > EN Agent prompt > A english?\")\n",
    "ask_gdpr_agent(\"Can I install surveillance cameras to monitor my employees?\")\n"
   ]
  },
  {
   "cell_type": "code",
   "execution_count": 67,
   "id": "0800d6b8",
   "metadata": {},
   "outputs": [
    {
     "name": "stdout",
     "output_type": "stream",
     "text": [
      "🔍 Single Question Analysis\n",
      "======================================================================\n",
      "🤔 QUESTION: Darf ich in meinem Lager oder Depot Videoüberwachung einsetzen?\n",
      "======================================================================\n",
      "\n",
      "\n",
      "\u001b[1m> Entering new AgentExecutor chain...\u001b[0m\n",
      "\u001b[32;1m\u001b[1;3m```json\n",
      "{\n",
      "    \"action\": \"GDPR_Knowledge_Base\",\n",
      "    \"action_input\": \"Videoüberwachung im Betrieb\"\n",
      "}\n",
      "```\u001b[0m\n",
      "Observation: \u001b[36;1m\u001b[1;3mIn öffentlich zugänglichen Bereichen des Betriebs dürfen Kameras ohne Einwilligung eingesetzt werden, solange ein berechtigter Zweck verfolgt wird und die Beschäftigten zustimmen. Dauerhafte Überwachung ist jedoch nicht erlaubt. In nicht öffentlich zugänglichen Bereichen ist das Filmen von Beschäftigten nur mit ausdrücklicher Einwilligung erlaubt. Kunden haben in der Regel kein höheres Schutzinteresse, Passanten hingegen schon. Kameras dürfen nur das Betriebsgelände erfassen.\u001b[0m\n",
      "Thought:\u001b[32;1m\u001b[1;3m```json\n",
      "{\n",
      "    \"action\": \"Final Answer\",\n",
      "    \"action_input\": \"In öffentlich zugänglichen Bereichen des Betriebs dürfen Kameras ohne Einwilligung eingesetzt werden, solange ein berechtigter Zweck verfolgt wird und die Beschäftigten zustimmen. Dauerhafte Überwachung ist jedoch nicht erlaubt. In nicht öffentlich zugänglichen Bereichen ist das Filmen von Beschäftigten nur mit ausdrücklicher Einwilligung erlaubt. Kunden haben in der Regel kein höheres Schutzinteresse, Passanten hingegen schon. Kameras dürfen nur das Betriebsgelände erfassen.\"\n",
      "}\n",
      "```\u001b[0m\n",
      "\n",
      "\u001b[1m> Finished chain.\u001b[0m\n",
      "\n",
      "✅ FINAL ANSWER:\n",
      "----------------------------------------\n",
      "In öffentlich zugänglichen Bereichen des Betriebs dürfen Kameras ohne Einwilligung eingesetzt werden, solange ein berechtigter Zweck verfolgt wird und die Beschäftigten zustimmen. Dauerhafte Überwachung ist jedoch nicht erlaubt. In nicht öffentlich zugänglichen Bereichen ist das Filmen von Beschäftigten nur mit ausdrücklicher Einwilligung erlaubt. Kunden haben in der Regel kein höheres Schutzinteresse, Passanten hingegen schon. Kameras dürfen nur das Betriebsgelände erfassen.\n",
      "\n",
      "📋 SOURCE DOCUMENTS:\n",
      "----------------------------------------\n",
      "No source documents found in intermediate steps\n"
     ]
    }
   ],
   "source": [
    "# Single Question with Full Details\n",
    "print(\"🔍 Single Question Analysis\")\n",
    "print(\"=\" * 70)\n",
    "\n",
    "# Ask one question with full agent thinking visible\n",
    "question = \"Darf ich in meinem Lager oder Depot Videoüberwachung einsetzen?\"\n",
    "print(f\"🤔 QUESTION: {question}\")\n",
    "print(\"=\" * 70)\n",
    "\n",
    "# Get the result\n",
    "result = agent.invoke({\"input\": question})\n",
    "\n",
    "print(\"\\n✅ FINAL ANSWER:\")\n",
    "print(\"-\" * 40)\n",
    "print(result['output'])\n",
    "\n",
    "print(\"\\n📋 SOURCE DOCUMENTS:\")\n",
    "print(\"-\" * 40)\n",
    "if result.get('intermediate_steps'):\n",
    "    # Extract source documents from agent steps\n",
    "    for i, step in enumerate(result['intermediate_steps']):\n",
    "        if len(step) > 1 and hasattr(step[1], 'get') and step[1].get('source_documents'):\n",
    "            sources = step[1]['source_documents']\n",
    "            print(f\"📚 Found {len(sources)} source documents:\")\n",
    "            for j, doc in enumerate(sources):\n",
    "                print(f\"\\n   📄 Source {j+1}:\")\n",
    "                print(f\"      📖 Content: {doc.page_content[:200]}...\")\n",
    "                print(f\"      🏷️  Metadata: {dict(list(doc.metadata.items())[:3])}...\")  # Show first 3 metadata fields\n",
    "            break\n",
    "else:\n",
    "    print(\"No source documents found in intermediate steps\")"
   ]
  },
  {
   "cell_type": "code",
   "execution_count": null,
   "id": "8fb2abe5",
   "metadata": {},
   "outputs": [],
   "source": [
    "\n",
    "# \"Darf ich in meinem Lager oder Depot Videoüberwachung einsetzen?\" \n",
    "# \"Was muss ich dabei beachten?“\n",
    "\n",
    "# german_questions = [\n",
    "#     \"Wie lange dürfen Kundendaten gespeichert werden?\",\n",
    "#     \"Darf ich Überwachungskameras zur Mitarbeiterüberwachung einsetzen?\"\n",
    "# ]\n",
    "\n",
    "# english_questions = [\n",
    "#     \"Can I install surveillance cameras to monitor my employees?\",\n",
    "#     \"Am I allowed to use CCTV in my warehouse or depot?\",\n",
    "#     \"What are the rules for video surveillance in employee parking areas?\",\n",
    "#     \"Do I need to inform employees about surveillance cameras?\"\n",
    "# ]"
   ]
  },
  {
   "cell_type": "code",
   "execution_count": null,
   "id": "ce5363a7",
   "metadata": {},
   "outputs": [],
   "source": [
    "# print(\"🧪 Testing the agent with bilingual questions...\")\n",
    "\n",
    "# # Only 2 test questions - one German, one English\n",
    "# test_questions = [\n",
    "#     \"What are the basic principles of data processing?\",   # English\n",
    "#     \"Wie lange dürfen Kundendaten gespeichert werden?\"  # German\n",
    "# ]\n",
    "\n",
    "# print(\"=\" * 50)\n",
    "# for question in test_questions:\n",
    "#     ask_gdpr_agent(question)\n",
    "# print(\"=\" * 50)"
   ]
  },
  {
   "cell_type": "code",
   "execution_count": null,
   "id": "87d43299",
   "metadata": {},
   "outputs": [],
   "source": [
    "\n",
    "# Only 2 test questions - one German, one English\n",
    "test_questions = [\n",
    "    \"What are the basic principles of data processing?\",   # English\n",
    "    \"Wie lange dürfen Kundendaten gespeichert werden?\"  # German\n",
    "]\n",
    "\n",
    "print(\"=\" * 50)\n",
    "for question in test_questions:\n",
    "    ask_gdpr_agent(question)\n",
    "print(\"=\" * 50)"
   ]
  },
  {
   "cell_type": "code",
   "execution_count": null,
   "id": "2c75e3e3",
   "metadata": {},
   "outputs": [],
   "source": [
    "# New Cell: Test the Agent (Simplified)\n",
    "print(\"🧪 Testing the agent...\")\n",
    "\n",
    "def ask_gdpr_agent(question):\n",
    "    \"\"\"\n",
    "    Ask questions using the agent approach - simplified version\n",
    "    \"\"\"\n",
    "    print(f\"🤔 Frage: {question}\")\n",
    "    print(\"⏳ Agent denkt nach...\")\n",
    "    \n",
    "    # Direct call without error handling\n",
    "    result = agent.invoke({\"input\": question})\n",
    "    \n",
    "    print(f\"✅ Antwort: {result['output']}\")\n",
    "    \n",
    "    return result\n",
    "\n",
    "# Test questions\n",
    "test_questions = [\n",
    "    \"Wie lange dürfen Kundendaten gespeichert werden?\",\n",
    "    \"Was sind die Grundsätze der Datenverarbeitung?\",\n",
    "    \"Muss ich einen Datenschutzbeauftragten haben?\"\n",
    "]\n",
    "\n",
    "print(\"=\" * 60)\n",
    "for i, question in enumerate(test_questions, 1):\n",
    "    print(f\"\\n📋 Test {i}: {question}\")\n",
    "    print(\"-\" * 40)\n",
    "    result = ask_gdpr_agent(question)\n",
    "    print(\"=\" * 60)"
   ]
  },
  {
   "cell_type": "markdown",
   "id": "9d148b49",
   "metadata": {},
   "source": [
    "===\n",
    "----\n",
    "\n",
    "----"
   ]
  },
  {
   "cell_type": "code",
   "execution_count": null,
   "id": "027b1c9b",
   "metadata": {},
   "outputs": [],
   "source": [
    "# FROM LESSON NOTEBOOK\n",
    "\n",
    "# from langchain.agents import Tool\n",
    "\n",
    "# tools = [\n",
    "#     Tool(\n",
    "#         name='Knowledge Base',\n",
    "#         func=qa.run,\n",
    "#         description=(\n",
    "#             'use this tool when answering general knowledge queries to get '\n",
    "#             'more information about the topic'\n",
    "#         )\n",
    "#     )\n",
    "# ]"
   ]
  },
  {
   "cell_type": "code",
   "execution_count": null,
   "id": "ca8f9fac",
   "metadata": {},
   "outputs": [],
   "source": [
    "# zzz\n",
    "# # Test 3: Data breach procedures\n",
    "# print(\"🧪 TEST 3: Datenpannen\")\n",
    "# result3 = ask_gdpr_question(\"Was muss ich tun bei einer Datenschutzverletzung?\")\n"
   ]
  },
  {
   "cell_type": "markdown",
   "id": "d46a332e",
   "metadata": {},
   "source": [
    "-----\n",
    "----\n"
   ]
  },
  {
   "cell_type": "markdown",
   "id": "02bb5e4d",
   "metadata": {},
   "source": [
    "# Draft"
   ]
  }
 ],
 "metadata": {
  "kernelspec": {
   "display_name": "LangChain",
   "language": "python",
   "name": "langchain_venv"
  },
  "language_info": {
   "codemirror_mode": {
    "name": "ipython",
    "version": 3
   },
   "file_extension": ".py",
   "mimetype": "text/x-python",
   "name": "python",
   "nbconvert_exporter": "python",
   "pygments_lexer": "ipython3",
   "version": "3.11.13"
  }
 },
 "nbformat": 4,
 "nbformat_minor": 5
}
